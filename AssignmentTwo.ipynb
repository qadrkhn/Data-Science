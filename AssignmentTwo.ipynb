{
 "cells": [
  {
   "cell_type": "markdown",
   "metadata": {},
   "source": [
    "<h1>Task 1: Create a 4X2 integer array and Prints its attributes</h1>"
   ]
  },
  {
   "cell_type": "code",
   "execution_count": 1,
   "metadata": {},
   "outputs": [
    {
     "name": "stdout",
     "output_type": "stream",
     "text": [
      "Printing Array\n",
      "[[119   0]\n",
      " [ 97   0]\n",
      " [114   0]\n",
      " [110   0]]\n",
      "Printing numpy array Attributes\n",
      "1> Array Shape is:  (4, 2)\n",
      "2>. Array dimensions are  2\n",
      "3>. Length of each element of array in bytes is  2\n"
     ]
    }
   ],
   "source": [
    "import numpy as np\n",
    "\n",
    "firstArray = np.empty([4,2], dtype = np.uint16) \n",
    "print(\"Printing Array\")\n",
    "print(firstArray)\n",
    "\n",
    "print(\"Printing numpy array Attributes\")\n",
    "print(\"1> Array Shape is: \", firstArray.shape)\n",
    "print(\"2>. Array dimensions are \", firstArray.ndim)\n",
    "print(\"3>. Length of each element of array in bytes is \", firstArray.itemsize)"
   ]
  },
  {
   "cell_type": "markdown",
   "metadata": {},
   "source": [
    "<h1>Task 2: <h2>Create a 5X2 integer array from a range between 100 to 200 such that the difference between each element is 10<> </h1>"
   ]
  },
  {
   "cell_type": "code",
   "execution_count": 2,
   "metadata": {},
   "outputs": [
    {
     "name": "stdout",
     "output_type": "stream",
     "text": [
      "Creating 5X2 array using numpy.arange\n",
      "[[100 110]\n",
      " [120 130]\n",
      " [140 150]\n",
      " [160 170]\n",
      " [180 190]]\n"
     ]
    }
   ],
   "source": [
    "print(\"Creating 5X2 array using numpy.arange\")\n",
    "sampleArray = np.arange(100, 200, 10)\n",
    "sampleArray = sampleArray.reshape(5,2)\n",
    "print (sampleArray)"
   ]
  },
  {
   "cell_type": "markdown",
   "metadata": {},
   "source": [
    "<h1>Task 3: <h2>Following is the provided numPy array. return array of items in the third column from all rows\n",
    "sampleArray = numpy.array([[11 ,22, 33], [44, 55, 66], [77, 88, 99]])</h2></h1>"
   ]
  },
  {
   "cell_type": "code",
   "execution_count": 8,
   "metadata": {},
   "outputs": [
    {
     "name": "stdout",
     "output_type": "stream",
     "text": [
      "Printing Input Array\n",
      "[[11 22 33]\n",
      " [44 55 66]\n",
      " [77 88 99]]\n",
      "\n",
      " Printing array of items in the third column from all rows\n",
      "[33 66 99]\n"
     ]
    }
   ],
   "source": [
    "sampleArray = np.array([[11 ,22, 33], [44, 55, 66], [77, 88, 99]]) \n",
    "print(\"Printing Input Array\")\n",
    "print(sampleArray)\n",
    "\n",
    "print(\"\\n Printing array of items in the third column from all rows\")\n",
    "newArray = sampleArray[...,2]\n",
    "print(newArray)"
   ]
  },
  {
   "cell_type": "markdown",
   "metadata": {},
   "source": [
    "<h1>Task 4: <h2>Return array of odd rows and even columns from below numpy array sampleArray = numpy.array([[3 ,6, 9, 12], [15 ,18, 21, 24],\n",
    "[27 ,30, 33, 36], [39 ,42, 45, 48], [51 ,54, 57, 60]])</h2></h1>"
   ]
  },
  {
   "cell_type": "code",
   "execution_count": 16,
   "metadata": {},
   "outputs": [
    {
     "name": "stdout",
     "output_type": "stream",
     "text": [
      "Printing Input Array\n",
      "[[ 3  6  9 12]\n",
      " [15 18 21 24]\n",
      " [27 30 33 36]\n",
      " [39 42 45 48]\n",
      " [51 54 57 60]]\n",
      "\n",
      " Printing odd rows and evem columns \n",
      "[[15 21]\n",
      " [39 45]]\n"
     ]
    }
   ],
   "source": [
    "sampleArray = np.array([[3 ,6, 9, 12], [15 ,18, 21, 24], [27 ,30, 33, 36], [39 ,42, 45, 48], [51 ,54, 57, 60]])\n",
    "print(\"Printing Input Array\")\n",
    "print(sampleArray)\n",
    "\n",
    "print(\"\\n Printing odd rows and evem columns \")\n",
    "newArray = sampleArray[1::2, ::2]\n",
    "print(newArray)"
   ]
  },
  {
   "cell_type": "markdown",
   "metadata": {},
   "source": [
    "<h1>Task 5: <h2>Create a result array by adding the following two NumPy arrays. Next, modify the result array by calculating the square of each element\n",
    "arrayOne = numpy.array([[5, 6, 9], [21 ,18, 27]])\n",
    "arrayTwo = numpy.array([[15 ,33, 24], [4 ,7, 1]])</h2>\n",
    "</h1>"
   ]
  },
  {
   "cell_type": "code",
   "execution_count": 24,
   "metadata": {},
   "outputs": [
    {
     "name": "stdout",
     "output_type": "stream",
     "text": [
      "Orignal Array \n",
      " [[20 39 33]\n",
      " [25 25 28]]\n",
      "Array after taking squares \n",
      " [[ 400 1521 1089]\n",
      " [ 625  625  784]]\n"
     ]
    }
   ],
   "source": [
    "arrayOne = np.array([[5, 6, 9], [21 ,18, 27]])\n",
    "arrayTwo = np.array([[15 ,33, 24], [4 ,7, 1]])\n",
    "result = arrayOne + arrayTwo\n",
    "\n",
    "print('Orignal Array \\n',result)\n",
    "for i in range(2):\n",
    "    for j in range(3):\n",
    "        temp = result[i,j] * result[i,j]\n",
    "        result[i,j] = temp\n",
    "        \n",
    "\n",
    "print('Array after taking squares \\n',result)\n",
    "        "
   ]
  },
  {
   "cell_type": "markdown",
   "metadata": {},
   "source": [
    "<h1>Task 6: <h2>Create an 8X3 integer array from a range between 10 to 34 such that the difference between each element is 1 and then Split the array into four equal-sized sub-arrays.</h2>\n",
    "</h1>"
   ]
  },
  {
   "cell_type": "code",
   "execution_count": 32,
   "metadata": {},
   "outputs": [
    {
     "name": "stdout",
     "output_type": "stream",
     "text": [
      "Creating 8X3 array using numpy.arange\n",
      "[[10 11 12]\n",
      " [13 14 15]\n",
      " [16 17 18]\n",
      " [19 20 21]\n",
      " [22 23 24]\n",
      " [25 26 27]\n",
      " [28 29 30]\n",
      " [31 32 33]]\n",
      "Subarray one \n",
      " [[10 11 12]\n",
      " [13 14 15]]\n",
      "Subarray two \n",
      " [[16 17 18]\n",
      " [19 20 21]]\n",
      "Subarray three \n",
      " [[22 23 24]\n",
      " [25 26 27]]\n",
      "Subarray four \n",
      " [[28 29 30]\n",
      " [31 32 33]]\n"
     ]
    }
   ],
   "source": [
    "print(\"Creating 8X3 array using numpy.arange\")\n",
    "sampleArray = np.arange(10, 34, 1)\n",
    "sampleArray = sampleArray.reshape(8,3)\n",
    "print(sampleArray)\n",
    "\n",
    "subarray_one = sampleArray[:2,:3]\n",
    "print('Subarray one \\n',subarray_one)\n",
    "\n",
    "subarray_two = sampleArray[2:4,:3]\n",
    "print('Subarray two \\n',subarray_two)\n",
    "\n",
    "subarray_three = sampleArray[4:6,:3]\n",
    "print('Subarray three \\n',subarray_three)\n",
    "\n",
    "subarray_four = sampleArray[6:8,:3]\n",
    "print('Subarray four \\n',subarray_four)"
   ]
  },
  {
   "cell_type": "markdown",
   "metadata": {},
   "source": [
    "<h1>Task 7: <h2>Sort following NumPy array first by the second row, then by the second columns sampleArray = numpy.array([[34,43,73],[82,22,12],[53,94,66]])</h2> </h1>"
   ]
  },
  {
   "cell_type": "code",
   "execution_count": 33,
   "metadata": {},
   "outputs": [
    {
     "name": "stdout",
     "output_type": "stream",
     "text": [
      "[[34 43 73]\n",
      " [82 22 12]\n",
      " [53 94 66]]\n"
     ]
    }
   ],
   "source": [
    "sampleArray = np.array([[34,43,73],[82,22,12],[53,94,66]])\n",
    "print(sampleArray)"
   ]
  },
  {
   "cell_type": "markdown",
   "metadata": {},
   "source": [
    "<h1>Task 8: <h2>Print max from axis 0 and min from axis 1 from the following 2-D array. sampleArray = numpy.array([[34,43,73],[82,22,12],[53,94,66]])</h2></h1>"
   ]
  },
  {
   "cell_type": "code",
   "execution_count": 41,
   "metadata": {},
   "outputs": [
    {
     "name": "stdout",
     "output_type": "stream",
     "text": [
      "[[34 43 73]\n",
      " [82 22 12]\n",
      " [53 94 66]]\n",
      "Max of axis zero \n",
      " [82 94 73]\n",
      "Min of axis one \n",
      " [34 12 53]\n"
     ]
    }
   ],
   "source": [
    "sampleArray = np.array([[34,43,73],[82,22,12],[53,94,66]])\n",
    "\n",
    "arr_axis_zero = np.array([0,1,2])\n",
    "arr_axis_one = np.array([0,1,2])\n",
    "\n",
    "print(sampleArray)\n",
    "arr_axis_zero[0] = max(sampleArray[0:3,0])\n",
    "arr_axis_one[0] = min(sampleArray[0,0:3])\n",
    "\n",
    "for i in range(3):\n",
    "    if arr_axis_zero[i] < max(sampleArray[0:3,i]):\n",
    "        arr_axis_zero[i] = max(sampleArray[0:3,i])\n",
    "        \n",
    "for i in range(3):\n",
    "    if arr_axis_one[i] < min(sampleArray[i,0:3]):\n",
    "        arr_axis_one[i] = min(sampleArray[i,0:3])\n",
    "\n",
    "        \n",
    "print('Max of axis zero \\n',arr_axis_zero)\n",
    "print('Min of axis one \\n',arr_axis_one)"
   ]
  },
  {
   "cell_type": "markdown",
   "metadata": {},
   "source": [
    "<h1>Task 9:<h2>Delete the second column from a given array and insert the following new column in its place.\n",
    "sampleArray = numpy.array([[34,43,73],[82,22,12],[53,94,66]])\n",
    "newColumn = numpy.array([[10,10,10]])</h2></h1>"
   ]
  },
  {
   "cell_type": "code",
   "execution_count": 56,
   "metadata": {},
   "outputs": [
    {
     "name": "stdout",
     "output_type": "stream",
     "text": [
      "[[34 43 73]\n",
      " [82 22 12]\n",
      " [53 94 66]]\n",
      "[[34 10 73]\n",
      " [82 10 12]\n",
      " [53 10 66]]\n"
     ]
    }
   ],
   "source": [
    "sampleArray = np.array([[34,43,73],[82,22,12],[53,94,66]])\n",
    "newColumn = np.array([10,10,10])\n",
    "print(sampleArray)\n",
    "sampleArray = np.delete(sampleArray, 1, axis = 1)\n",
    "sampleArray = np.insert(sampleArray, 1,newColumn, axis=1)\n",
    "\n",
    "\n",
    "print(sampleArray)\n",
    "\n"
   ]
  },
  {
   "cell_type": "code",
   "execution_count": null,
   "metadata": {},
   "outputs": [],
   "source": []
  }
 ],
 "metadata": {
  "kernelspec": {
   "display_name": "Python 3",
   "language": "python",
   "name": "python3"
  },
  "language_info": {
   "codemirror_mode": {
    "name": "ipython",
    "version": 3
   },
   "file_extension": ".py",
   "mimetype": "text/x-python",
   "name": "python",
   "nbconvert_exporter": "python",
   "pygments_lexer": "ipython3",
   "version": "3.8.5"
  }
 },
 "nbformat": 4,
 "nbformat_minor": 4
}
