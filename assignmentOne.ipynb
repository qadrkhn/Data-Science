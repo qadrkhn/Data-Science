{
 "cells": [
  {
   "cell_type": "markdown",
   "metadata": {},
   "source": [
    "<h1>Task 1</h1>"
   ]
  },
  {
   "cell_type": "code",
   "execution_count": null,
   "metadata": {},
   "outputs": [],
   "source": [
    "####################TASK 1####################\n",
    "value = float(input('Enter value of temperature = '))\n",
    "print('To convert from C to F enter f\\n')\n",
    "print('To convert from F to C enter c\\n')\n",
    "ch = input('Enter a character = ')\n",
    "\n",
    "tmp = value\n",
    "\n",
    "if ch == 'c' :\n",
    "    value = value - 32\n",
    "    value = value * 5\n",
    "    value = value / 9\n",
    "elif ch == 'f' :\n",
    "    value = 9 * value \n",
    "    value = value / 5\n",
    "    value = value + 32\n",
    "else :\n",
    "    print('Please enter a valid character')\n",
    "\n",
    "\n",
    "if ch == 'c' :\n",
    "    print('Converted ',tmp,' F to celcius = ',value)\n",
    "elif ch == 'f' :\n",
    "    print('Converted ',tmp,' C to faranheit = ',value)\n"
   ]
  },
  {
   "cell_type": "markdown",
   "metadata": {},
   "source": [
    "<h1>Task 2</h1>"
   ]
  },
  {
   "cell_type": "code",
   "execution_count": null,
   "metadata": {},
   "outputs": [],
   "source": [
    "for x in range(1500,2701,1):\n",
    "    if x % 7 == 0 and x % 5 == 0:\n",
    "        print(x)\n",
    "        "
   ]
  },
  {
   "cell_type": "markdown",
   "metadata": {},
   "source": [
    "<h1>Task 3</h1>"
   ]
  },
  {
   "cell_type": "code",
   "execution_count": null,
   "metadata": {},
   "outputs": [],
   "source": [
    "def max_min(nums):\n",
    "    min = 1000\n",
    "    max = 0\n",
    "    for i in nums:\n",
    "        if i < min:\n",
    "            min = i\n",
    "        elif i > max:\n",
    "            max = i\n",
    "            \n",
    "    return([min,max])"
   ]
  },
  {
   "cell_type": "code",
   "execution_count": null,
   "metadata": {},
   "outputs": [],
   "source": [
    "lis = [2,1,0,7,6,4,-1,2,7,-1]\n",
    "maxx_minn = max_min(lis)\n",
    "print(maxx_minn)"
   ]
  },
  {
   "cell_type": "markdown",
   "metadata": {},
   "source": [
    "<h1>Task 4</h1>"
   ]
  },
  {
   "cell_type": "code",
   "execution_count": null,
   "metadata": {},
   "outputs": [],
   "source": [
    "def secondmax_secondmin(nums):\n",
    "    min = 1000\n",
    "    max = 0\n",
    "    for i in nums:\n",
    "        if i < min:\n",
    "            min = i\n",
    "        elif i > max:\n",
    "            max = i\n",
    "    \n",
    "    min1 = 1000\n",
    "    max1 = 0        \n",
    "    for i in nums:\n",
    "        if i < min1 and i != min:\n",
    "            min1 = i\n",
    "        elif i > max1 and i != max:\n",
    "            max1 = i\n",
    "            \n",
    "    return ([min1,max1])"
   ]
  },
  {
   "cell_type": "code",
   "execution_count": null,
   "metadata": {},
   "outputs": [],
   "source": [
    "lis = [2,1,0,7,6,4,-1,2,7,-1]\n",
    "maxx_minn = secondmax_secondmin(lis)\n",
    "print(maxx_minn)"
   ]
  },
  {
   "cell_type": "markdown",
   "metadata": {},
   "source": [
    "<h1>Task 5</h1>"
   ]
  },
  {
   "cell_type": "code",
   "execution_count": null,
   "metadata": {},
   "outputs": [],
   "source": [
    "def mean_calculator(demo_list):\n",
    "    size = 0\n",
    "    sum = 0\n",
    "    m = 0\n",
    "    for i in demo_list:\n",
    "        m = demo_list.index(i)\n",
    "        val = demo_list[m]\n",
    "        sum = sum + val\n",
    "        size = size + 1\n",
    "        \n",
    "    \n",
    "    print('Mean of list = ',sum/size)"
   ]
  },
  {
   "cell_type": "code",
   "execution_count": null,
   "metadata": {},
   "outputs": [],
   "source": [
    "def median_calculator(demo_list):\n",
    "    demo_list.sort()\n",
    "    size = 0\n",
    "    for i in demo_list:\n",
    "        size = size + 1\n",
    "    \n",
    "    median = 0\n",
    "    \n",
    "    if(size % 2 == 0):\n",
    "        index1 = int(size/2)\n",
    "        index2 = int(size/2)-1\n",
    "        median = demo_list[index1] + demo_list[index2]\n",
    "        median = median / 2\n",
    "    else:\n",
    "        index = int(size/2)\n",
    "        median = demo_list[index]\n",
    "        \n",
    "    print('Median of list = ',median)                "
   ]
  },
  {
   "cell_type": "code",
   "execution_count": null,
   "metadata": {},
   "outputs": [],
   "source": [
    "def mode_calculator(demo_list):\n",
    "    demo_list.sort()\n",
    "    size = 0\n",
    "    for i in demo_list:\n",
    "        size = size + 1\n",
    "    \n",
    "    count_list = [0] * (size)\n",
    "    counted_values = [0] * (size)\n",
    "    k = 0\n",
    "    \n",
    "    for i in range(0,size):\n",
    "        for j in range(0,size):\n",
    "            if demo_list[i] == demo_list[j]:\n",
    "                count_list[k] = int(count_list[k] + 1)\n",
    "                \n",
    "        \n",
    "        counted_values[k] = demo_list[i]        \n",
    "        k = k + 1\n",
    "        \n",
    "    max_with_index = [0] * 2\n",
    "    max_with_index[1] = 0\n",
    "    for i in range(0,size):\n",
    "        if count_list[i] > max_with_index[1]:\n",
    "            max_with_index[0] = counted_values[i]\n",
    "            max_with_index[1] = i\n",
    "    \n",
    "    print('Mode of list = ',max_with_index[0])        "
   ]
  },
  {
   "cell_type": "code",
   "execution_count": null,
   "metadata": {
    "scrolled": false
   },
   "outputs": [],
   "source": [
    "demo_list = [59, 65, 61, 62, 53, 55, 60, 70, 64, 56, 58, 58, 62, 62, 68, 65, 56, 59, 68, 61, 67]\n",
    "mean_calculator(demo_list)\n",
    "median_calculator(demo_list)\n",
    "mode_calculator(demo_list)"
   ]
  },
  {
   "cell_type": "markdown",
   "metadata": {},
   "source": [
    "<h1>Task 7</h1>"
   ]
  },
  {
   "cell_type": "code",
   "execution_count": 3,
   "metadata": {},
   "outputs": [
    {
     "name": "stdout",
     "output_type": "stream",
     "text": [
      "For mon for \"Monday\" tues for \"Tuesday\"(first three letters of any day of the week)\n",
      "For member enter m, if not member enter ot\n",
      "Time of entry (eg 6.02 or 19.03)\n",
      "Enter day = tue\n",
      "Enter membership status = m\n",
      "Enter time of entry = 10\n",
      "Enter age = 58\n",
      "Ticket price =  5.0\n"
     ]
    }
   ],
   "source": [
    "days = ['mon','tue','wed','thu','fri','sat','sun']\n",
    "member_status = ['ot','m']\n",
    "entry_time = [6.00,19.00,19.01,24.00]\n",
    "visitor_age = ['0.0','16.0','16.01','60.0','60.01','120.0']\n",
    "ticket_price = 0.0\n",
    "print('For mon for \"Monday\" tues for \"Tuesday\"(first three letters of any day of the week)')\n",
    "print('For member enter m, if not member enter ot')\n",
    "print('Time of entry (eg 6.02 or 19.03)')\n",
    "\n",
    "day = input(\"Enter day = \")\n",
    "member = input(\"Enter membership status = \")\n",
    "time = float(input(\"Enter time of entry = \"))\n",
    "age = float(input(\"Enter age = \"))\n",
    "\n",
    "\n",
    "index_day = 0\n",
    "\n",
    "for i in days:\n",
    "    if i == day:\n",
    "        index_day = days.index(i)\n",
    "        break\n",
    "\n",
    "index_member = 10\n",
    "if member == member_status[0]:\n",
    "    index_member = 0\n",
    "else:\n",
    "    index_member = 1\n",
    "\n",
    "index_time = 0\n",
    "for i in range(0,4,2):\n",
    "    if time >= entry_time[i] and time <= entry_time[i+1]:\n",
    "        index_time = i\n",
    "        \n",
    "\n",
    "        \n",
    "if index_day >= 0 and index_day <= 4:\n",
    "    if index_member == 0:\n",
    "        if index_time == 0:\n",
    "            if age >= 0 and age <= 16.00:\n",
    "                ticket_price = 5.0\n",
    "            elif age >= 16.01 and age <= 60.00:\n",
    "                ticket_price = 10.00\n",
    "            elif age >= 60.01 and age <= 120.00:\n",
    "                ticket_price = 8.0\n",
    "        else:\n",
    "            if age >= 0 and age <= 16.00:\n",
    "                ticket_price = 6.0\n",
    "            elif age >= 16.01 and age <= 60.00:\n",
    "                ticket_price = 12.00\n",
    "            elif age >= 60.01 and age <= 120.00:\n",
    "                ticket_price = 8.0\n",
    "            \n",
    "    \n",
    "    else:\n",
    "        if index_time == 0:\n",
    "            if age >= 0 and age <= 16.00:\n",
    "                ticket_price = 2.5\n",
    "            elif age >= 16.01 and age <= 60.00:\n",
    "                ticket_price = 5.0\n",
    "            elif age >= 60.01 and age <= 120.00:\n",
    "                ticket_price = 4.0\n",
    "        else:\n",
    "            if age >= 0 and age <= 16.00:\n",
    "                ticket_price = 3.0\n",
    "            elif age >= 16.01 and age <= 60.00:\n",
    "                ticket_price = 6.00\n",
    "            elif age >= 60.01 and age <= 120.00:\n",
    "                ticket_price = 4.0\n",
    "else:\n",
    "    if index_member == 0:\n",
    "        if index_time == 0:\n",
    "            if age >= 0 and age <= 16.00:\n",
    "                ticket_price = 7.5\n",
    "            elif age >= 16.01 and age <= 60.00:\n",
    "                ticket_price = 15.00\n",
    "            elif age >= 60.01 and age <= 120.00:\n",
    "                ticket_price = 12.0\n",
    "        else:\n",
    "            if age >= 0 and age <= 16.00:\n",
    "                ticket_price = 9.0\n",
    "            elif age >= 16.01 and age <= 60.00:\n",
    "                ticket_price = 18.00\n",
    "            elif age >= 60.01 and age <= 120.00:\n",
    "                ticket_price = 12.0\n",
    "            \n",
    "    \n",
    "    else:\n",
    "        if index_time == 0:\n",
    "            if age >= 0 and age <= 16.00:\n",
    "                ticket_price = 3.5\n",
    "            elif age >= 16.01 and age <= 60.00:\n",
    "                ticket_price = 7.0\n",
    "            elif age >= 60.01 and age <= 120.00:\n",
    "                ticket_price = 5.5\n",
    "        else:\n",
    "            if age >= 0 and age <= 16.00:\n",
    "                ticket_price = 4.0\n",
    "            elif age >= 16.01 and age <= 60.00:\n",
    "                ticket_price = 8.00\n",
    "            elif age >= 60.01 and age <= 120.00:\n",
    "                ticket_price = 5.50\n",
    "    \n",
    "    \n",
    "        \n",
    "        \n",
    "print('Ticket price = ',ticket_price)\n"
   ]
  },
  {
   "cell_type": "markdown",
   "metadata": {},
   "source": [
    "<h1>Task 6</h1>"
   ]
  },
  {
   "cell_type": "code",
   "execution_count": 5,
   "metadata": {},
   "outputs": [
    {
     "name": "stdout",
     "output_type": "stream",
     "text": [
      "[1, 0, 2]\n"
     ]
    }
   ],
   "source": [
    "str1 = \"a quick brown fox jumps over the lazy dog\"\n",
    "str2 = \"this course can be complex but not complicated if learnt properly\"\n",
    "str3 = \"the boeing plane max 8 was grounded all around the world for technical problems\"\n",
    "li = []\n",
    "substring = 'the'\n",
    "words_dic = {\n",
    "    substring: li\n",
    "}\n",
    "li.insert(0, str1.count(substring))\n",
    "li.insert(1, str2.count(substring))\n",
    "li.insert(2, str3.count(substring))\n",
    "print(words_dic[substring])"
   ]
  },
  {
   "cell_type": "markdown",
   "metadata": {},
   "source": [
    "<h1>L1F16BSCS0101</h1>\n",
    "<h2>Qadeer khan</h2>"
   ]
  },
  {
   "cell_type": "code",
   "execution_count": null,
   "metadata": {},
   "outputs": [],
   "source": []
  }
 ],
 "metadata": {
  "kernelspec": {
   "display_name": "Python 3",
   "language": "python",
   "name": "python3"
  },
  "language_info": {
   "codemirror_mode": {
    "name": "ipython",
    "version": 3
   },
   "file_extension": ".py",
   "mimetype": "text/x-python",
   "name": "python",
   "nbconvert_exporter": "python",
   "pygments_lexer": "ipython3",
   "version": "3.8.5"
  }
 },
 "nbformat": 4,
 "nbformat_minor": 4
}
